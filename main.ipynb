{
 "cells": [
  {
   "cell_type": "markdown",
   "metadata": {},
   "source": [
    "# Exploratory Data Analysis for Reported Road Accidents in Guadalajara Metropolitan Zone"
   ]
  },
  {
   "cell_type": "markdown",
   "metadata": {},
   "source": [
    "**Import Modules**"
   ]
  },
  {
   "cell_type": "code",
   "execution_count": 43,
   "metadata": {},
   "outputs": [],
   "source": [
    "import pandas as pd\n",
    "import numpy as np\n",
    "import matplotlib.pyplot as plt\n",
    "import seaborn as sns\n",
    "\n",
    "%matplotlib inline"
   ]
  },
  {
   "cell_type": "markdown",
   "metadata": {},
   "source": [
    "**Load Data**"
   ]
  },
  {
   "cell_type": "code",
   "execution_count": 44,
   "metadata": {},
   "outputs": [],
   "source": [
    "df = pd.read_csv(\"data.csv\", encoding='latin-1')"
   ]
  },
  {
   "cell_type": "markdown",
   "metadata": {},
   "source": [
    "**Check Dataset First 10 Rows**"
   ]
  },
  {
   "cell_type": "code",
   "execution_count": 45,
   "metadata": {},
   "outputs": [
    {
     "data": {
      "text/html": [
       "<div>\n",
       "<style scoped>\n",
       "    .dataframe tbody tr th:only-of-type {\n",
       "        vertical-align: middle;\n",
       "    }\n",
       "\n",
       "    .dataframe tbody tr th {\n",
       "        vertical-align: top;\n",
       "    }\n",
       "\n",
       "    .dataframe thead th {\n",
       "        text-align: right;\n",
       "    }\n",
       "</style>\n",
       "<table border=\"1\" class=\"dataframe\">\n",
       "  <thead>\n",
       "    <tr style=\"text-align: right;\">\n",
       "      <th></th>\n",
       "      <th>Unnamed: 0</th>\n",
       "      <th>consecutivo</th>\n",
       "      <th>Id</th>\n",
       "      <th>fecha</th>\n",
       "      <th>anio</th>\n",
       "      <th>mes</th>\n",
       "      <th>dia</th>\n",
       "      <th>dia_sem</th>\n",
       "      <th>rango_hora</th>\n",
       "      <th>mun</th>\n",
       "      <th>...</th>\n",
       "      <th>calle_2</th>\n",
       "      <th>x</th>\n",
       "      <th>y</th>\n",
       "      <th>tipo_siniestro</th>\n",
       "      <th>condicion_usuario</th>\n",
       "      <th>tipo_usuario</th>\n",
       "      <th>ibaen_atro</th>\n",
       "      <th>sexo</th>\n",
       "      <th>rango_edad</th>\n",
       "      <th>consecuencia</th>\n",
       "    </tr>\n",
       "  </thead>\n",
       "  <tbody>\n",
       "    <tr>\n",
       "      <th>0</th>\n",
       "      <td>1</td>\n",
       "      <td>1</td>\n",
       "      <td>2015-01-01-1-EHGR-20:00 A 21:59</td>\n",
       "      <td>2015-01-01</td>\n",
       "      <td>2015</td>\n",
       "      <td>Enero</td>\n",
       "      <td>1</td>\n",
       "      <td>jueves</td>\n",
       "      <td>20:00 a 20:59</td>\n",
       "      <td>Guadalajara</td>\n",
       "      <td>...</td>\n",
       "      <td>Rio Rhin</td>\n",
       "      <td>-103.33658</td>\n",
       "      <td>20.653207</td>\n",
       "      <td>Colisión con peatón/Atropellamiento</td>\n",
       "      <td>Conductor</td>\n",
       "      <td>Motociclista</td>\n",
       "      <td>Motocicleta</td>\n",
       "      <td>Hombre</td>\n",
       "      <td>No disponible</td>\n",
       "      <td>Ileso</td>\n",
       "    </tr>\n",
       "    <tr>\n",
       "      <th>1</th>\n",
       "      <td>2</td>\n",
       "      <td>2</td>\n",
       "      <td>2015-01-01-1-EHGR-20:00 A 21:59</td>\n",
       "      <td>2015-01-01</td>\n",
       "      <td>2015</td>\n",
       "      <td>Enero</td>\n",
       "      <td>1</td>\n",
       "      <td>jueves</td>\n",
       "      <td>20:00 a 20:59</td>\n",
       "      <td>Guadalajara</td>\n",
       "      <td>...</td>\n",
       "      <td>Rio Rhin</td>\n",
       "      <td>-103.33658</td>\n",
       "      <td>20.653207</td>\n",
       "      <td>Colisión con peatón/Atropellamiento</td>\n",
       "      <td>Peatón</td>\n",
       "      <td>Peatón</td>\n",
       "      <td>Motocicleta</td>\n",
       "      <td>Mujer</td>\n",
       "      <td>28-37</td>\n",
       "      <td>Lesionado</td>\n",
       "    </tr>\n",
       "    <tr>\n",
       "      <th>2</th>\n",
       "      <td>3</td>\n",
       "      <td>3</td>\n",
       "      <td>2015-01-01-620850-SISCAV-08:00 A 09:59</td>\n",
       "      <td>2015-01-01</td>\n",
       "      <td>2015</td>\n",
       "      <td>Enero</td>\n",
       "      <td>1</td>\n",
       "      <td>jueves</td>\n",
       "      <td>09:00 a 09:59</td>\n",
       "      <td>Sin datos</td>\n",
       "      <td>...</td>\n",
       "      <td>Tlaquepaque</td>\n",
       "      <td>NaN</td>\n",
       "      <td>NaN</td>\n",
       "      <td>Colisión con objeto fijo</td>\n",
       "      <td>Conductor</td>\n",
       "      <td>Vehiculo Particular</td>\n",
       "      <td>Automovil</td>\n",
       "      <td>Hombre</td>\n",
       "      <td>18-27</td>\n",
       "      <td>Ileso</td>\n",
       "    </tr>\n",
       "  </tbody>\n",
       "</table>\n",
       "<p>3 rows × 21 columns</p>\n",
       "</div>"
      ],
      "text/plain": [
       "   Unnamed: 0  consecutivo                                      Id  \\\n",
       "0           1            1         2015-01-01-1-EHGR-20:00 A 21:59   \n",
       "1           2            2         2015-01-01-1-EHGR-20:00 A 21:59   \n",
       "2           3            3  2015-01-01-620850-SISCAV-08:00 A 09:59   \n",
       "\n",
       "        fecha  anio    mes  dia dia_sem     rango_hora          mun  ...  \\\n",
       "0  2015-01-01  2015  Enero    1  jueves  20:00 a 20:59  Guadalajara  ...   \n",
       "1  2015-01-01  2015  Enero    1  jueves  20:00 a 20:59  Guadalajara  ...   \n",
       "2  2015-01-01  2015  Enero    1  jueves  09:00 a 09:59    Sin datos  ...   \n",
       "\n",
       "       calle_2           x          y                       tipo_siniestro  \\\n",
       "0     Rio Rhin  -103.33658  20.653207  Colisión con peatón/Atropellamiento   \n",
       "1     Rio Rhin  -103.33658  20.653207  Colisión con peatón/Atropellamiento   \n",
       "2  Tlaquepaque         NaN        NaN             Colisión con objeto fijo   \n",
       "\n",
       "  condicion_usuario         tipo_usuario   ibaen_atro    sexo     rango_edad  \\\n",
       "0         Conductor         Motociclista  Motocicleta  Hombre  No disponible   \n",
       "1            Peatón               Peatón  Motocicleta   Mujer          28-37   \n",
       "2         Conductor  Vehiculo Particular    Automovil  Hombre          18-27   \n",
       "\n",
       "  consecuencia  \n",
       "0        Ileso  \n",
       "1    Lesionado  \n",
       "2        Ileso  \n",
       "\n",
       "[3 rows x 21 columns]"
      ]
     },
     "execution_count": 45,
     "metadata": {},
     "output_type": "execute_result"
    }
   ],
   "source": [
    "df.head(3)"
   ]
  },
  {
   "cell_type": "markdown",
   "metadata": {},
   "source": [
    "**Inspect Data Types and Missing Values**"
   ]
  },
  {
   "cell_type": "code",
   "execution_count": 46,
   "metadata": {},
   "outputs": [
    {
     "name": "stdout",
     "output_type": "stream",
     "text": [
      "<class 'pandas.core.frame.DataFrame'>\n",
      "RangeIndex: 46005 entries, 0 to 46004\n",
      "Data columns (total 21 columns):\n",
      " #   Column             Non-Null Count  Dtype \n",
      "---  ------             --------------  ----- \n",
      " 0   Unnamed: 0         46005 non-null  int64 \n",
      " 1   consecutivo        46005 non-null  int64 \n",
      " 2   Id                 46005 non-null  object\n",
      " 3   fecha              46005 non-null  object\n",
      " 4   anio               46005 non-null  int64 \n",
      " 5   mes                46005 non-null  object\n",
      " 6   dia                46005 non-null  int64 \n",
      " 7   dia_sem            46005 non-null  object\n",
      " 8   rango_hora         46005 non-null  object\n",
      " 9   mun                46005 non-null  object\n",
      " 10  calle_1            46005 non-null  object\n",
      " 11  calle_2            46005 non-null  object\n",
      " 12  x                  41873 non-null  object\n",
      " 13  y                  41873 non-null  object\n",
      " 14  tipo_siniestro     46005 non-null  object\n",
      " 15  condicion_usuario  46005 non-null  object\n",
      " 16  tipo_usuario       46005 non-null  object\n",
      " 17  ibaen_atro         46005 non-null  object\n",
      " 18  sexo               45992 non-null  object\n",
      " 19  rango_edad         45992 non-null  object\n",
      " 20  consecuencia       45990 non-null  object\n",
      "dtypes: int64(4), object(17)\n",
      "memory usage: 7.4+ MB\n"
     ]
    }
   ],
   "source": [
    "df.info()"
   ]
  },
  {
   "cell_type": "markdown",
   "metadata": {},
   "source": [
    "**Check Summary Statistic of Numerical Columns**"
   ]
  },
  {
   "cell_type": "code",
   "execution_count": 47,
   "metadata": {},
   "outputs": [
    {
     "data": {
      "text/html": [
       "<div>\n",
       "<style scoped>\n",
       "    .dataframe tbody tr th:only-of-type {\n",
       "        vertical-align: middle;\n",
       "    }\n",
       "\n",
       "    .dataframe tbody tr th {\n",
       "        vertical-align: top;\n",
       "    }\n",
       "\n",
       "    .dataframe thead th {\n",
       "        text-align: right;\n",
       "    }\n",
       "</style>\n",
       "<table border=\"1\" class=\"dataframe\">\n",
       "  <thead>\n",
       "    <tr style=\"text-align: right;\">\n",
       "      <th></th>\n",
       "      <th>Unnamed: 0</th>\n",
       "      <th>consecutivo</th>\n",
       "      <th>anio</th>\n",
       "      <th>dia</th>\n",
       "    </tr>\n",
       "  </thead>\n",
       "  <tbody>\n",
       "    <tr>\n",
       "      <th>count</th>\n",
       "      <td>46005.000000</td>\n",
       "      <td>46005.000000</td>\n",
       "      <td>46005.000000</td>\n",
       "      <td>46005.000000</td>\n",
       "    </tr>\n",
       "    <tr>\n",
       "      <th>mean</th>\n",
       "      <td>23003.000000</td>\n",
       "      <td>23003.637496</td>\n",
       "      <td>2018.336529</td>\n",
       "      <td>15.737768</td>\n",
       "    </tr>\n",
       "    <tr>\n",
       "      <th>std</th>\n",
       "      <td>13280.643904</td>\n",
       "      <td>13281.396145</td>\n",
       "      <td>2.507583</td>\n",
       "      <td>8.718242</td>\n",
       "    </tr>\n",
       "    <tr>\n",
       "      <th>min</th>\n",
       "      <td>1.000000</td>\n",
       "      <td>1.000000</td>\n",
       "      <td>2015.000000</td>\n",
       "      <td>1.000000</td>\n",
       "    </tr>\n",
       "    <tr>\n",
       "      <th>25%</th>\n",
       "      <td>11502.000000</td>\n",
       "      <td>11502.000000</td>\n",
       "      <td>2016.000000</td>\n",
       "      <td>8.000000</td>\n",
       "    </tr>\n",
       "    <tr>\n",
       "      <th>50%</th>\n",
       "      <td>23003.000000</td>\n",
       "      <td>23003.000000</td>\n",
       "      <td>2018.000000</td>\n",
       "      <td>16.000000</td>\n",
       "    </tr>\n",
       "    <tr>\n",
       "      <th>75%</th>\n",
       "      <td>34504.000000</td>\n",
       "      <td>34506.000000</td>\n",
       "      <td>2020.000000</td>\n",
       "      <td>23.000000</td>\n",
       "    </tr>\n",
       "    <tr>\n",
       "      <th>max</th>\n",
       "      <td>46005.000000</td>\n",
       "      <td>46007.000000</td>\n",
       "      <td>2024.000000</td>\n",
       "      <td>31.000000</td>\n",
       "    </tr>\n",
       "  </tbody>\n",
       "</table>\n",
       "</div>"
      ],
      "text/plain": [
       "         Unnamed: 0   consecutivo          anio           dia\n",
       "count  46005.000000  46005.000000  46005.000000  46005.000000\n",
       "mean   23003.000000  23003.637496   2018.336529     15.737768\n",
       "std    13280.643904  13281.396145      2.507583      8.718242\n",
       "min        1.000000      1.000000   2015.000000      1.000000\n",
       "25%    11502.000000  11502.000000   2016.000000      8.000000\n",
       "50%    23003.000000  23003.000000   2018.000000     16.000000\n",
       "75%    34504.000000  34506.000000   2020.000000     23.000000\n",
       "max    46005.000000  46007.000000   2024.000000     31.000000"
      ]
     },
     "execution_count": 47,
     "metadata": {},
     "output_type": "execute_result"
    }
   ],
   "source": [
    "df.describe()"
   ]
  },
  {
   "cell_type": "markdown",
   "metadata": {},
   "source": [
    "**Check Count of Categorical Columns**"
   ]
  },
  {
   "cell_type": "code",
   "execution_count": 48,
   "metadata": {},
   "outputs": [
    {
     "data": {
      "text/plain": [
       "tipo_siniestro\n",
       "Colisión entre dos o más vehículos     34726\n",
       "Colisión con peatón/Atropellamiento     5372\n",
       "Colisión con objeto fijo                3059\n",
       "Caída del vehículo                      1271\n",
       "Caída al interior                        548\n",
       "Volcadura                                463\n",
       "Otro                                     416\n",
       "Colisión con vehículo estacionado        130\n",
       "Automovil                                  6\n",
       "Motocicleta                                5\n",
       "Sin datos                                  4\n",
       "Conductor                                  2\n",
       "Camioneta De Carga                         1\n",
       "Bicicleta                                  1\n",
       "Colisión con obstáculo no fijo             1\n",
       "Name: count, dtype: int64"
      ]
     },
     "execution_count": 48,
     "metadata": {},
     "output_type": "execute_result"
    }
   ],
   "source": [
    "df['tipo_siniestro'].value_counts()"
   ]
  },
  {
   "cell_type": "code",
   "execution_count": 49,
   "metadata": {},
   "outputs": [
    {
     "data": {
      "text/plain": [
       "consecuencia\n",
       "Lesionado    24344\n",
       "Ileso        19576\n",
       "Fallecido     2070\n",
       "Name: count, dtype: int64"
      ]
     },
     "execution_count": 49,
     "metadata": {},
     "output_type": "execute_result"
    }
   ],
   "source": [
    "df['consecuencia'].value_counts()"
   ]
  },
  {
   "cell_type": "markdown",
   "metadata": {},
   "source": [
    "**Convert Date Columns into Datetime objects**"
   ]
  },
  {
   "cell_type": "code",
   "execution_count": 50,
   "metadata": {},
   "outputs": [],
   "source": [
    "df['fecha'] = pd.to_datetime(df['fecha'], errors='coerce')\n",
    "\n",
    "df['year'] = df['fecha'].dt.year\n",
    "df['month'] = df['fecha'].dt.month\n",
    "df['day'] = df['fecha'].dt.day"
   ]
  },
  {
   "cell_type": "markdown",
   "metadata": {},
   "source": [
    "**Data Visualization**"
   ]
  },
  {
   "cell_type": "code",
   "execution_count": null,
   "metadata": {},
   "outputs": [
    {
     "data": {
      "image/png": "[encoded data removed]",
      "text/plain": [
       "<Figure size 1000x600 with 1 Axes>"
      ]
     },
     "metadata": {},
     "output_type": "display_data"
    }
   ],
   "source": [
    "plt.figure(figsize=(10, 6))\n",
    "sns.countplot(x='mes', data=df)\n",
    "plt.title(\"Distribution of by Month\")\n",
    "plt.xlabel(\"Month\")\n",
    "plt.ylabel(\"Count\")\n",
    "plt.xticks(rotation=45)\n",
    "plt.show()"
   ]
  }
 ],
 "metadata": {
  "kernelspec": {
   "display_name": "venv",
   "language": "python",
   "name": "python3"
  },
  "language_info": {
   "codemirror_mode": {
    "name": "ipython",
    "version": 3
   },
   "file_extension": ".py",
   "mimetype": "text/x-python",
   "name": "python",
   "nbconvert_exporter": "python",
   "pygments_lexer": "ipython3",
   "version": "3.11.11"
  }
 },
 "nbformat": 4,
 "nbformat_minor": 2
}
