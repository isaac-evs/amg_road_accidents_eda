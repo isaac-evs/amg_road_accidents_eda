{
 "cells": [
  {
   "cell_type": "markdown",
   "metadata": {},
   "source": [
    "# **Exploratory Data Analysis: Reported Road Accidents in Guadalajara Metropolitan Zone**"
   ]
  },
  {
   "cell_type": "markdown",
   "metadata": {},
   "source": [
    "#### **1. Imports and Data Loading**"
   ]
  },
  {
   "cell_type": "markdown",
   "metadata": {},
   "source": [
    "**Import modules**"
   ]
  },
  {
   "cell_type": "code",
   "execution_count": 1,
   "metadata": {},
   "outputs": [],
   "source": [
    "import pandas as pd\n",
    "import numpy as np\n",
    "import matplotlib.pyplot as plt\n",
    "import seaborn as sns\n",
    "\n",
    "%matplotlib inline"
   ]
  },
  {
   "cell_type": "markdown",
   "metadata": {},
   "source": [
    "**Load data**"
   ]
  },
  {
   "cell_type": "code",
   "execution_count": 2,
   "metadata": {},
   "outputs": [],
   "source": [
    "df = pd.read_csv(\"data.csv\", encoding='latin-1')"
   ]
  },
  {
   "cell_type": "markdown",
   "metadata": {},
   "source": [
    "#### **2. Data Exploration**"
   ]
  },
  {
   "cell_type": "markdown",
   "metadata": {},
   "source": [
    "**Check dataset first 5 rows**"
   ]
  },
  {
   "cell_type": "code",
   "execution_count": 3,
   "metadata": {},
   "outputs": [
    {
     "data": {
      "text/html": [
       "<div>\n",
       "<style scoped>\n",
       "    .dataframe tbody tr th:only-of-type {\n",
       "        vertical-align: middle;\n",
       "    }\n",
       "\n",
       "    .dataframe tbody tr th {\n",
       "        vertical-align: top;\n",
       "    }\n",
       "\n",
       "    .dataframe thead th {\n",
       "        text-align: right;\n",
       "    }\n",
       "</style>\n",
       "<table border=\"1\" class=\"dataframe\">\n",
       "  <thead>\n",
       "    <tr style=\"text-align: right;\">\n",
       "      <th></th>\n",
       "      <th>Unnamed: 0</th>\n",
       "      <th>consecutivo</th>\n",
       "      <th>Id</th>\n",
       "      <th>fecha</th>\n",
       "      <th>anio</th>\n",
       "      <th>mes</th>\n",
       "      <th>dia</th>\n",
       "      <th>dia_sem</th>\n",
       "      <th>rango_hora</th>\n",
       "      <th>mun</th>\n",
       "      <th>...</th>\n",
       "      <th>calle_2</th>\n",
       "      <th>x</th>\n",
       "      <th>y</th>\n",
       "      <th>tipo_siniestro</th>\n",
       "      <th>condicion_usuario</th>\n",
       "      <th>tipo_usuario</th>\n",
       "      <th>ibaen_atro</th>\n",
       "      <th>sexo</th>\n",
       "      <th>rango_edad</th>\n",
       "      <th>consecuencia</th>\n",
       "    </tr>\n",
       "  </thead>\n",
       "  <tbody>\n",
       "    <tr>\n",
       "      <th>0</th>\n",
       "      <td>1</td>\n",
       "      <td>1</td>\n",
       "      <td>2015-01-01-1-EHGR-20:00 A 21:59</td>\n",
       "      <td>2015-01-01</td>\n",
       "      <td>2015</td>\n",
       "      <td>Enero</td>\n",
       "      <td>1</td>\n",
       "      <td>jueves</td>\n",
       "      <td>20:00 a 20:59</td>\n",
       "      <td>Guadalajara</td>\n",
       "      <td>...</td>\n",
       "      <td>Rio Rhin</td>\n",
       "      <td>-103.33658</td>\n",
       "      <td>20.653207</td>\n",
       "      <td>Colisión con peatón/Atropellamiento</td>\n",
       "      <td>Conductor</td>\n",
       "      <td>Motociclista</td>\n",
       "      <td>Motocicleta</td>\n",
       "      <td>Hombre</td>\n",
       "      <td>No disponible</td>\n",
       "      <td>Ileso</td>\n",
       "    </tr>\n",
       "    <tr>\n",
       "      <th>1</th>\n",
       "      <td>2</td>\n",
       "      <td>2</td>\n",
       "      <td>2015-01-01-1-EHGR-20:00 A 21:59</td>\n",
       "      <td>2015-01-01</td>\n",
       "      <td>2015</td>\n",
       "      <td>Enero</td>\n",
       "      <td>1</td>\n",
       "      <td>jueves</td>\n",
       "      <td>20:00 a 20:59</td>\n",
       "      <td>Guadalajara</td>\n",
       "      <td>...</td>\n",
       "      <td>Rio Rhin</td>\n",
       "      <td>-103.33658</td>\n",
       "      <td>20.653207</td>\n",
       "      <td>Colisión con peatón/Atropellamiento</td>\n",
       "      <td>Peatón</td>\n",
       "      <td>Peatón</td>\n",
       "      <td>Motocicleta</td>\n",
       "      <td>Mujer</td>\n",
       "      <td>28-37</td>\n",
       "      <td>Lesionado</td>\n",
       "    </tr>\n",
       "    <tr>\n",
       "      <th>2</th>\n",
       "      <td>3</td>\n",
       "      <td>3</td>\n",
       "      <td>2015-01-01-620850-SISCAV-08:00 A 09:59</td>\n",
       "      <td>2015-01-01</td>\n",
       "      <td>2015</td>\n",
       "      <td>Enero</td>\n",
       "      <td>1</td>\n",
       "      <td>jueves</td>\n",
       "      <td>09:00 a 09:59</td>\n",
       "      <td>Sin datos</td>\n",
       "      <td>...</td>\n",
       "      <td>Tlaquepaque</td>\n",
       "      <td>NaN</td>\n",
       "      <td>NaN</td>\n",
       "      <td>Colisión con objeto fijo</td>\n",
       "      <td>Conductor</td>\n",
       "      <td>Vehiculo Particular</td>\n",
       "      <td>Automovil</td>\n",
       "      <td>Hombre</td>\n",
       "      <td>18-27</td>\n",
       "      <td>Ileso</td>\n",
       "    </tr>\n",
       "    <tr>\n",
       "      <th>3</th>\n",
       "      <td>4</td>\n",
       "      <td>4</td>\n",
       "      <td>2015-01-01-620850-SISCAV-08:00 A 09:59</td>\n",
       "      <td>2015-01-01</td>\n",
       "      <td>2015</td>\n",
       "      <td>Enero</td>\n",
       "      <td>1</td>\n",
       "      <td>jueves</td>\n",
       "      <td>09:00 a 09:59</td>\n",
       "      <td>Sin datos</td>\n",
       "      <td>...</td>\n",
       "      <td>Tlaquepaque</td>\n",
       "      <td>NaN</td>\n",
       "      <td>NaN</td>\n",
       "      <td>Colisión con objeto fijo</td>\n",
       "      <td>Pasajero</td>\n",
       "      <td>Vehiculo Particular</td>\n",
       "      <td>Automovil</td>\n",
       "      <td>Mujer</td>\n",
       "      <td>No disponible</td>\n",
       "      <td>Lesionado</td>\n",
       "    </tr>\n",
       "    <tr>\n",
       "      <th>4</th>\n",
       "      <td>5</td>\n",
       "      <td>5</td>\n",
       "      <td>2015-01-01-622260-SISCAV-04:00 A 05:59</td>\n",
       "      <td>2015-01-01</td>\n",
       "      <td>2015</td>\n",
       "      <td>Enero</td>\n",
       "      <td>1</td>\n",
       "      <td>jueves</td>\n",
       "      <td>05:00 a 05:59</td>\n",
       "      <td>Guadalajara</td>\n",
       "      <td>...</td>\n",
       "      <td>Plutarco Elias Calles</td>\n",
       "      <td>-103.29641</td>\n",
       "      <td>20.670602</td>\n",
       "      <td>Colisión con objeto fijo</td>\n",
       "      <td>Conductor</td>\n",
       "      <td>Transporte Empresarial o de Personal</td>\n",
       "      <td>Camioneta De Pasajeros</td>\n",
       "      <td>Hombre</td>\n",
       "      <td>38-47</td>\n",
       "      <td>Fallecido</td>\n",
       "    </tr>\n",
       "  </tbody>\n",
       "</table>\n",
       "<p>5 rows × 21 columns</p>\n",
       "</div>"
      ],
      "text/plain": [
       "   Unnamed: 0  consecutivo                                      Id  \\\n",
       "0           1            1         2015-01-01-1-EHGR-20:00 A 21:59   \n",
       "1           2            2         2015-01-01-1-EHGR-20:00 A 21:59   \n",
       "2           3            3  2015-01-01-620850-SISCAV-08:00 A 09:59   \n",
       "3           4            4  2015-01-01-620850-SISCAV-08:00 A 09:59   \n",
       "4           5            5  2015-01-01-622260-SISCAV-04:00 A 05:59   \n",
       "\n",
       "        fecha  anio    mes  dia dia_sem     rango_hora          mun  ...  \\\n",
       "0  2015-01-01  2015  Enero    1  jueves  20:00 a 20:59  Guadalajara  ...   \n",
       "1  2015-01-01  2015  Enero    1  jueves  20:00 a 20:59  Guadalajara  ...   \n",
       "2  2015-01-01  2015  Enero    1  jueves  09:00 a 09:59    Sin datos  ...   \n",
       "3  2015-01-01  2015  Enero    1  jueves  09:00 a 09:59    Sin datos  ...   \n",
       "4  2015-01-01  2015  Enero    1  jueves  05:00 a 05:59  Guadalajara  ...   \n",
       "\n",
       "                 calle_2           x          y  \\\n",
       "0               Rio Rhin  -103.33658  20.653207   \n",
       "1               Rio Rhin  -103.33658  20.653207   \n",
       "2            Tlaquepaque         NaN        NaN   \n",
       "3            Tlaquepaque         NaN        NaN   \n",
       "4  Plutarco Elias Calles  -103.29641  20.670602   \n",
       "\n",
       "                        tipo_siniestro condicion_usuario  \\\n",
       "0  Colisión con peatón/Atropellamiento         Conductor   \n",
       "1  Colisión con peatón/Atropellamiento            Peatón   \n",
       "2             Colisión con objeto fijo         Conductor   \n",
       "3             Colisión con objeto fijo          Pasajero   \n",
       "4             Colisión con objeto fijo         Conductor   \n",
       "\n",
       "                           tipo_usuario              ibaen_atro    sexo  \\\n",
       "0                          Motociclista             Motocicleta  Hombre   \n",
       "1                                Peatón             Motocicleta   Mujer   \n",
       "2                   Vehiculo Particular               Automovil  Hombre   \n",
       "3                   Vehiculo Particular               Automovil   Mujer   \n",
       "4  Transporte Empresarial o de Personal  Camioneta De Pasajeros  Hombre   \n",
       "\n",
       "      rango_edad consecuencia  \n",
       "0  No disponible        Ileso  \n",
       "1          28-37    Lesionado  \n",
       "2          18-27        Ileso  \n",
       "3  No disponible    Lesionado  \n",
       "4          38-47    Fallecido  \n",
       "\n",
       "[5 rows x 21 columns]"
      ]
     },
     "execution_count": 3,
     "metadata": {},
     "output_type": "execute_result"
    }
   ],
   "source": [
    "df.head(5)"
   ]
  },
  {
   "cell_type": "markdown",
   "metadata": {},
   "source": [
    "**Inspect data types and missing values**"
   ]
  },
  {
   "cell_type": "code",
   "execution_count": 4,
   "metadata": {},
   "outputs": [
    {
     "name": "stdout",
     "output_type": "stream",
     "text": [
      "<class 'pandas.core.frame.DataFrame'>\n",
      "RangeIndex: 46005 entries, 0 to 46004\n",
      "Data columns (total 21 columns):\n",
      " #   Column             Non-Null Count  Dtype \n",
      "---  ------             --------------  ----- \n",
      " 0   Unnamed: 0         46005 non-null  int64 \n",
      " 1   consecutivo        46005 non-null  int64 \n",
      " 2   Id                 46005 non-null  object\n",
      " 3   fecha              46005 non-null  object\n",
      " 4   anio               46005 non-null  int64 \n",
      " 5   mes                46005 non-null  object\n",
      " 6   dia                46005 non-null  int64 \n",
      " 7   dia_sem            46005 non-null  object\n",
      " 8   rango_hora         46005 non-null  object\n",
      " 9   mun                46005 non-null  object\n",
      " 10  calle_1            46005 non-null  object\n",
      " 11  calle_2            46005 non-null  object\n",
      " 12  x                  41873 non-null  object\n",
      " 13  y                  41873 non-null  object\n",
      " 14  tipo_siniestro     46005 non-null  object\n",
      " 15  condicion_usuario  46005 non-null  object\n",
      " 16  tipo_usuario       46005 non-null  object\n",
      " 17  ibaen_atro         46005 non-null  object\n",
      " 18  sexo               45992 non-null  object\n",
      " 19  rango_edad         45992 non-null  object\n",
      " 20  consecuencia       45990 non-null  object\n",
      "dtypes: int64(4), object(17)\n",
      "memory usage: 7.4+ MB\n"
     ]
    }
   ],
   "source": [
    "df.info()"
   ]
  },
  {
   "cell_type": "markdown",
   "metadata": {},
   "source": [
    "**Check summary statistic of numerical columns**"
   ]
  },
  {
   "cell_type": "code",
   "execution_count": 5,
   "metadata": {},
   "outputs": [
    {
     "data": {
      "text/html": [
       "<div>\n",
       "<style scoped>\n",
       "    .dataframe tbody tr th:only-of-type {\n",
       "        vertical-align: middle;\n",
       "    }\n",
       "\n",
       "    .dataframe tbody tr th {\n",
       "        vertical-align: top;\n",
       "    }\n",
       "\n",
       "    .dataframe thead th {\n",
       "        text-align: right;\n",
       "    }\n",
       "</style>\n",
       "<table border=\"1\" class=\"dataframe\">\n",
       "  <thead>\n",
       "    <tr style=\"text-align: right;\">\n",
       "      <th></th>\n",
       "      <th>Unnamed: 0</th>\n",
       "      <th>consecutivo</th>\n",
       "      <th>anio</th>\n",
       "      <th>dia</th>\n",
       "    </tr>\n",
       "  </thead>\n",
       "  <tbody>\n",
       "    <tr>\n",
       "      <th>count</th>\n",
       "      <td>46005.000000</td>\n",
       "      <td>46005.000000</td>\n",
       "      <td>46005.000000</td>\n",
       "      <td>46005.000000</td>\n",
       "    </tr>\n",
       "    <tr>\n",
       "      <th>mean</th>\n",
       "      <td>23003.000000</td>\n",
       "      <td>23003.637496</td>\n",
       "      <td>2018.336529</td>\n",
       "      <td>15.737768</td>\n",
       "    </tr>\n",
       "    <tr>\n",
       "      <th>std</th>\n",
       "      <td>13280.643904</td>\n",
       "      <td>13281.396145</td>\n",
       "      <td>2.507583</td>\n",
       "      <td>8.718242</td>\n",
       "    </tr>\n",
       "    <tr>\n",
       "      <th>min</th>\n",
       "      <td>1.000000</td>\n",
       "      <td>1.000000</td>\n",
       "      <td>2015.000000</td>\n",
       "      <td>1.000000</td>\n",
       "    </tr>\n",
       "    <tr>\n",
       "      <th>25%</th>\n",
       "      <td>11502.000000</td>\n",
       "      <td>11502.000000</td>\n",
       "      <td>2016.000000</td>\n",
       "      <td>8.000000</td>\n",
       "    </tr>\n",
       "    <tr>\n",
       "      <th>50%</th>\n",
       "      <td>23003.000000</td>\n",
       "      <td>23003.000000</td>\n",
       "      <td>2018.000000</td>\n",
       "      <td>16.000000</td>\n",
       "    </tr>\n",
       "    <tr>\n",
       "      <th>75%</th>\n",
       "      <td>34504.000000</td>\n",
       "      <td>34506.000000</td>\n",
       "      <td>2020.000000</td>\n",
       "      <td>23.000000</td>\n",
       "    </tr>\n",
       "    <tr>\n",
       "      <th>max</th>\n",
       "      <td>46005.000000</td>\n",
       "      <td>46007.000000</td>\n",
       "      <td>2024.000000</td>\n",
       "      <td>31.000000</td>\n",
       "    </tr>\n",
       "  </tbody>\n",
       "</table>\n",
       "</div>"
      ],
      "text/plain": [
       "         Unnamed: 0   consecutivo          anio           dia\n",
       "count  46005.000000  46005.000000  46005.000000  46005.000000\n",
       "mean   23003.000000  23003.637496   2018.336529     15.737768\n",
       "std    13280.643904  13281.396145      2.507583      8.718242\n",
       "min        1.000000      1.000000   2015.000000      1.000000\n",
       "25%    11502.000000  11502.000000   2016.000000      8.000000\n",
       "50%    23003.000000  23003.000000   2018.000000     16.000000\n",
       "75%    34504.000000  34506.000000   2020.000000     23.000000\n",
       "max    46005.000000  46007.000000   2024.000000     31.000000"
      ]
     },
     "execution_count": 5,
     "metadata": {},
     "output_type": "execute_result"
    }
   ],
   "source": [
    "df.describe()"
   ]
  },
  {
   "cell_type": "markdown",
   "metadata": {},
   "source": [
    "- We can observe that Unamed column is the index, and the year and day arent a datetime objects"
   ]
  },
  {
   "cell_type": "markdown",
   "metadata": {},
   "source": [
    "**Check Count of Categorical Columns**"
   ]
  },
  {
   "cell_type": "code",
   "execution_count": 6,
   "metadata": {},
   "outputs": [
    {
     "data": {
      "text/plain": [
       "tipo_siniestro\n",
       "Colisión entre dos o más vehículos     34726\n",
       "Colisión con peatón/Atropellamiento     5372\n",
       "Colisión con objeto fijo                3059\n",
       "Caída del vehículo                      1271\n",
       "Caída al interior                        548\n",
       "Volcadura                                463\n",
       "Otro                                     416\n",
       "Colisión con vehículo estacionado        130\n",
       "Automovil                                  6\n",
       "Motocicleta                                5\n",
       "Sin datos                                  4\n",
       "Conductor                                  2\n",
       "Camioneta De Carga                         1\n",
       "Bicicleta                                  1\n",
       "Colisión con obstáculo no fijo             1\n",
       "Name: count, dtype: int64"
      ]
     },
     "execution_count": 6,
     "metadata": {},
     "output_type": "execute_result"
    }
   ],
   "source": [
    "df['tipo_siniestro'].value_counts()"
   ]
  },
  {
   "cell_type": "markdown",
   "metadata": {},
   "source": [
    "- Checking the different categories we can observe that labels arent consistent, we will need to plan how to handle this so we can later perform one hot or label enconding for training our model"
   ]
  },
  {
   "cell_type": "code",
   "execution_count": 7,
   "metadata": {},
   "outputs": [
    {
     "data": {
      "text/plain": [
       "condicion_usuario\n",
       "Conductor                               31817\n",
       "Pasajero                                10883\n",
       "Peatón                                   3290\n",
       "Hombre                                     12\n",
       "Motociclista                                1\n",
       "Transporte Empresarial o de Personal        1\n",
       "Mujer                                       1\n",
       "Name: count, dtype: int64"
      ]
     },
     "execution_count": 7,
     "metadata": {},
     "output_type": "execute_result"
    }
   ],
   "source": [
    "df['condicion_usuario'].value_counts()"
   ]
  },
  {
   "cell_type": "code",
   "execution_count": 8,
   "metadata": {},
   "outputs": [
    {
     "data": {
      "text/plain": [
       "tipo_usuario\n",
       "Vehiculo Particular                     13875\n",
       "Motociclista                             9505\n",
       "Transporte Publico de Pasajeros          7548\n",
       "Transporte de Carga                      5762\n",
       "Transporte Empresarial o de Personal     3719\n",
       "Peatón                                   3290\n",
       "Sin datos                                1198\n",
       "Ciclista                                  818\n",
       "Otro Vehiculo                             217\n",
       "Tren Ligero                                58\n",
       "18-27                                       4\n",
       "28-37                                       4\n",
       "38-47                                       2\n",
       "48-59                                       2\n",
       "Motocicleta                                 1\n",
       "Camioneta De Pasajeros                      1\n",
       "0-17                                        1\n",
       "Name: count, dtype: int64"
      ]
     },
     "execution_count": 8,
     "metadata": {},
     "output_type": "execute_result"
    }
   ],
   "source": [
    "df['tipo_usuario'].value_counts()"
   ]
  },
  {
   "cell_type": "code",
   "execution_count": 9,
   "metadata": {},
   "outputs": [
    {
     "data": {
      "text/plain": [
       "ibaen_atro\n",
       "Automovil                 13553\n",
       "Motocicleta                9892\n",
       "Transporte Publico         7963\n",
       "Camioneta De Carga         5030\n",
       "Camioneta De Pasajeros     3873\n",
       "Sin datos                  1691\n",
       "Taxi                       1236\n",
       "Bicicleta                   828\n",
       "Camion De Carga             802\n",
       "Trailer                     328\n",
       "Foraneo                     239\n",
       "Otro                        139\n",
       "Transporte De Personal      129\n",
       "Ferrocarril                  98\n",
       "Ambulancia                   95\n",
       "Tren Ligero                  75\n",
       "Motocarro                    16\n",
       "Lesionado                     6\n",
       "Ileso                         6\n",
       "Transporte Escolar            3\n",
       "Hombre                        1\n",
       "Mujer                         1\n",
       "Fallecido                     1\n",
       "Name: count, dtype: int64"
      ]
     },
     "execution_count": 9,
     "metadata": {},
     "output_type": "execute_result"
    }
   ],
   "source": [
    "df['ibaen_atro'].value_counts()"
   ]
  },
  {
   "cell_type": "code",
   "execution_count": 10,
   "metadata": {},
   "outputs": [
    {
     "data": {
      "text/plain": [
       "sexo\n",
       "Hombre             28338\n",
       "Mujer              10092\n",
       "No especificado     7560\n",
       "18-27                  2\n",
       "Name: count, dtype: int64"
      ]
     },
     "execution_count": 10,
     "metadata": {},
     "output_type": "execute_result"
    }
   ],
   "source": [
    "df['sexo'].value_counts()"
   ]
  },
  {
   "cell_type": "code",
   "execution_count": 11,
   "metadata": {},
   "outputs": [
    {
     "data": {
      "text/plain": [
       "rango_edad\n",
       "No disponible    13735\n",
       "18-27            10991\n",
       "28-37             7201\n",
       "38-47             5434\n",
       "48-59             4119\n",
       "0-17              2383\n",
       "60+               2127\n",
       "Lesionado            1\n",
       "Ileso                1\n",
       "Name: count, dtype: int64"
      ]
     },
     "execution_count": 11,
     "metadata": {},
     "output_type": "execute_result"
    }
   ],
   "source": [
    "df['rango_edad'].value_counts()"
   ]
  },
  {
   "cell_type": "code",
   "execution_count": 12,
   "metadata": {},
   "outputs": [
    {
     "data": {
      "text/plain": [
       "consecuencia\n",
       "Lesionado    24344\n",
       "Ileso        19576\n",
       "Fallecido     2070\n",
       "Name: count, dtype: int64"
      ]
     },
     "execution_count": 12,
     "metadata": {},
     "output_type": "execute_result"
    }
   ],
   "source": [
    "df['consecuencia'].value_counts()"
   ]
  },
  {
   "cell_type": "code",
   "execution_count": 13,
   "metadata": {},
   "outputs": [
    {
     "data": {
      "text/plain": [
       "mun\n",
       "Guadalajara              21190\n",
       "Zapopan                  11274\n",
       "San Pedro Tlaquepaque     4376\n",
       "Sin datos                 4139\n",
       "Tlajomulco de Zúñiga      2483\n",
       "Tonalá                    2287\n",
       "El Salto                   256\n",
       "Name: count, dtype: int64"
      ]
     },
     "execution_count": 13,
     "metadata": {},
     "output_type": "execute_result"
    }
   ],
   "source": [
    "df['mun'].value_counts()"
   ]
  },
  {
   "cell_type": "markdown",
   "metadata": {},
   "source": [
    "#### **2. Data Cleaning**"
   ]
  },
  {
   "cell_type": "markdown",
   "metadata": {},
   "source": [
    "**Drop columns that arent relevant for analysis and classification**"
   ]
  },
  {
   "cell_type": "code",
   "execution_count": 14,
   "metadata": {},
   "outputs": [],
   "source": [
    "df.drop(\"Unnamed: 0\", axis = 1, inplace=True)\n",
    "\n",
    "df.drop(\"Id\", axis = 1, inplace=True)\n",
    "\n",
    "df.drop(\"consecutivo\", axis = 1, inplace=True)\n",
    "\n",
    "df.drop(\"anio\", axis = 1, inplace=True)\n",
    "\n",
    "df.drop(\"mes\", axis = 1, inplace=True)\n",
    "\n",
    "df.drop(\"dia\", axis = 1, inplace=True)"
   ]
  },
  {
   "cell_type": "markdown",
   "metadata": {},
   "source": [
    "**Convert date Columns into datetime objects**"
   ]
  },
  {
   "cell_type": "code",
   "execution_count": 15,
   "metadata": {},
   "outputs": [],
   "source": [
    "df['fecha'] = pd.to_datetime(df['fecha'], errors='coerce')\n",
    "\n",
    "df['year'] = df['fecha'].dt.year\n",
    "df['month'] = df['fecha'].dt.month\n",
    "df['day'] = df['fecha'].dt.day"
   ]
  },
  {
   "cell_type": "markdown",
   "metadata": {},
   "source": [
    "**Convert missing values from age range into its own category**"
   ]
  },
  {
   "cell_type": "code",
   "execution_count": 16,
   "metadata": {},
   "outputs": [
    {
     "data": {
      "text/plain": [
       "rango_edad\n",
       "Desconocido    13735\n",
       "18-27          10991\n",
       "28-37           7201\n",
       "38-47           5434\n",
       "48-59           4119\n",
       "0-17            2383\n",
       "60+             2127\n",
       "Lesionado          1\n",
       "Ileso              1\n",
       "Name: count, dtype: int64"
      ]
     },
     "execution_count": 16,
     "metadata": {},
     "output_type": "execute_result"
    }
   ],
   "source": [
    "df['rango_edad'] = df[\"rango_edad\"].replace(\"No disponible\", \"Desconocido\")\n",
    "\n",
    "df['rango_edad'].value_counts()"
   ]
  },
  {
   "cell_type": "markdown",
   "metadata": {},
   "source": [
    "**Convert missing values into NaN**"
   ]
  },
  {
   "cell_type": "code",
   "execution_count": 17,
   "metadata": {},
   "outputs": [],
   "source": [
    "df.replace([\"Sin datos\", \"No disponible\", \"No especificado\"], np.nan, inplace=True)"
   ]
  },
  {
   "cell_type": "code",
   "execution_count": 18,
   "metadata": {},
   "outputs": [
    {
     "data": {
      "text/html": [
       "<div>\n",
       "<style scoped>\n",
       "    .dataframe tbody tr th:only-of-type {\n",
       "        vertical-align: middle;\n",
       "    }\n",
       "\n",
       "    .dataframe tbody tr th {\n",
       "        vertical-align: top;\n",
       "    }\n",
       "\n",
       "    .dataframe thead th {\n",
       "        text-align: right;\n",
       "    }\n",
       "</style>\n",
       "<table border=\"1\" class=\"dataframe\">\n",
       "  <thead>\n",
       "    <tr style=\"text-align: right;\">\n",
       "      <th></th>\n",
       "      <th>fecha</th>\n",
       "      <th>dia_sem</th>\n",
       "      <th>rango_hora</th>\n",
       "      <th>mun</th>\n",
       "      <th>calle_1</th>\n",
       "      <th>calle_2</th>\n",
       "      <th>x</th>\n",
       "      <th>y</th>\n",
       "      <th>tipo_siniestro</th>\n",
       "      <th>condicion_usuario</th>\n",
       "      <th>tipo_usuario</th>\n",
       "      <th>ibaen_atro</th>\n",
       "      <th>sexo</th>\n",
       "      <th>rango_edad</th>\n",
       "      <th>consecuencia</th>\n",
       "      <th>year</th>\n",
       "      <th>month</th>\n",
       "      <th>day</th>\n",
       "    </tr>\n",
       "  </thead>\n",
       "  <tbody>\n",
       "    <tr>\n",
       "      <th>0</th>\n",
       "      <td>2015-01-01</td>\n",
       "      <td>jueves</td>\n",
       "      <td>20:00 a 20:59</td>\n",
       "      <td>Guadalajara</td>\n",
       "      <td>Del Ejercito Calz</td>\n",
       "      <td>Rio Rhin</td>\n",
       "      <td>-103.33658</td>\n",
       "      <td>20.653207</td>\n",
       "      <td>Colisión con peatón/Atropellamiento</td>\n",
       "      <td>Conductor</td>\n",
       "      <td>Motociclista</td>\n",
       "      <td>Motocicleta</td>\n",
       "      <td>Hombre</td>\n",
       "      <td>Desconocido</td>\n",
       "      <td>Ileso</td>\n",
       "      <td>2015</td>\n",
       "      <td>1</td>\n",
       "      <td>1</td>\n",
       "    </tr>\n",
       "    <tr>\n",
       "      <th>1</th>\n",
       "      <td>2015-01-01</td>\n",
       "      <td>jueves</td>\n",
       "      <td>20:00 a 20:59</td>\n",
       "      <td>Guadalajara</td>\n",
       "      <td>Del Ejercito Calz</td>\n",
       "      <td>Rio Rhin</td>\n",
       "      <td>-103.33658</td>\n",
       "      <td>20.653207</td>\n",
       "      <td>Colisión con peatón/Atropellamiento</td>\n",
       "      <td>Peatón</td>\n",
       "      <td>Peatón</td>\n",
       "      <td>Motocicleta</td>\n",
       "      <td>Mujer</td>\n",
       "      <td>28-37</td>\n",
       "      <td>Lesionado</td>\n",
       "      <td>2015</td>\n",
       "      <td>1</td>\n",
       "      <td>1</td>\n",
       "    </tr>\n",
       "    <tr>\n",
       "      <th>2</th>\n",
       "      <td>2015-01-01</td>\n",
       "      <td>jueves</td>\n",
       "      <td>09:00 a 09:59</td>\n",
       "      <td>NaN</td>\n",
       "      <td>Lazaro Cardenas Calz</td>\n",
       "      <td>Tlaquepaque</td>\n",
       "      <td>NaN</td>\n",
       "      <td>NaN</td>\n",
       "      <td>Colisión con objeto fijo</td>\n",
       "      <td>Conductor</td>\n",
       "      <td>Vehiculo Particular</td>\n",
       "      <td>Automovil</td>\n",
       "      <td>Hombre</td>\n",
       "      <td>18-27</td>\n",
       "      <td>Ileso</td>\n",
       "      <td>2015</td>\n",
       "      <td>1</td>\n",
       "      <td>1</td>\n",
       "    </tr>\n",
       "    <tr>\n",
       "      <th>3</th>\n",
       "      <td>2015-01-01</td>\n",
       "      <td>jueves</td>\n",
       "      <td>09:00 a 09:59</td>\n",
       "      <td>NaN</td>\n",
       "      <td>Lazaro Cardenas Calz</td>\n",
       "      <td>Tlaquepaque</td>\n",
       "      <td>NaN</td>\n",
       "      <td>NaN</td>\n",
       "      <td>Colisión con objeto fijo</td>\n",
       "      <td>Pasajero</td>\n",
       "      <td>Vehiculo Particular</td>\n",
       "      <td>Automovil</td>\n",
       "      <td>Mujer</td>\n",
       "      <td>Desconocido</td>\n",
       "      <td>Lesionado</td>\n",
       "      <td>2015</td>\n",
       "      <td>1</td>\n",
       "      <td>1</td>\n",
       "    </tr>\n",
       "    <tr>\n",
       "      <th>4</th>\n",
       "      <td>2015-01-01</td>\n",
       "      <td>jueves</td>\n",
       "      <td>05:00 a 05:59</td>\n",
       "      <td>Guadalajara</td>\n",
       "      <td>Industria</td>\n",
       "      <td>Plutarco Elias Calles</td>\n",
       "      <td>-103.29641</td>\n",
       "      <td>20.670602</td>\n",
       "      <td>Colisión con objeto fijo</td>\n",
       "      <td>Conductor</td>\n",
       "      <td>Transporte Empresarial o de Personal</td>\n",
       "      <td>Camioneta De Pasajeros</td>\n",
       "      <td>Hombre</td>\n",
       "      <td>38-47</td>\n",
       "      <td>Fallecido</td>\n",
       "      <td>2015</td>\n",
       "      <td>1</td>\n",
       "      <td>1</td>\n",
       "    </tr>\n",
       "    <tr>\n",
       "      <th>5</th>\n",
       "      <td>2015-01-01</td>\n",
       "      <td>jueves</td>\n",
       "      <td>05:00 a 05:59</td>\n",
       "      <td>Guadalajara</td>\n",
       "      <td>Industria</td>\n",
       "      <td>Plutarco Elias Calles</td>\n",
       "      <td>-103.29641</td>\n",
       "      <td>20.670602</td>\n",
       "      <td>Colisión con objeto fijo</td>\n",
       "      <td>Pasajero</td>\n",
       "      <td>Transporte Empresarial o de Personal</td>\n",
       "      <td>Camioneta De Pasajeros</td>\n",
       "      <td>Mujer</td>\n",
       "      <td>Desconocido</td>\n",
       "      <td>Lesionado</td>\n",
       "      <td>2015</td>\n",
       "      <td>1</td>\n",
       "      <td>1</td>\n",
       "    </tr>\n",
       "    <tr>\n",
       "      <th>6</th>\n",
       "      <td>2015-01-01</td>\n",
       "      <td>jueves</td>\n",
       "      <td>05:00 a 05:59</td>\n",
       "      <td>Guadalajara</td>\n",
       "      <td>Industria</td>\n",
       "      <td>Plutarco Elias Calles</td>\n",
       "      <td>-103.29641</td>\n",
       "      <td>20.670602</td>\n",
       "      <td>Colisión con objeto fijo</td>\n",
       "      <td>Pasajero</td>\n",
       "      <td>Transporte Empresarial o de Personal</td>\n",
       "      <td>Camioneta De Pasajeros</td>\n",
       "      <td>NaN</td>\n",
       "      <td>Desconocido</td>\n",
       "      <td>Lesionado</td>\n",
       "      <td>2015</td>\n",
       "      <td>1</td>\n",
       "      <td>1</td>\n",
       "    </tr>\n",
       "    <tr>\n",
       "      <th>7</th>\n",
       "      <td>2015-01-01</td>\n",
       "      <td>jueves</td>\n",
       "      <td>05:00 a 05:59</td>\n",
       "      <td>Guadalajara</td>\n",
       "      <td>Industria</td>\n",
       "      <td>Plutarco Elias Calles</td>\n",
       "      <td>-103.29641</td>\n",
       "      <td>20.670602</td>\n",
       "      <td>Colisión con objeto fijo</td>\n",
       "      <td>Pasajero</td>\n",
       "      <td>Transporte Empresarial o de Personal</td>\n",
       "      <td>Camioneta De Pasajeros</td>\n",
       "      <td>Mujer</td>\n",
       "      <td>Desconocido</td>\n",
       "      <td>Lesionado</td>\n",
       "      <td>2015</td>\n",
       "      <td>1</td>\n",
       "      <td>1</td>\n",
       "    </tr>\n",
       "    <tr>\n",
       "      <th>8</th>\n",
       "      <td>2015-01-01</td>\n",
       "      <td>jueves</td>\n",
       "      <td>05:00 a 05:59</td>\n",
       "      <td>Guadalajara</td>\n",
       "      <td>Industria</td>\n",
       "      <td>Plutarco Elias Calles</td>\n",
       "      <td>-103.29641</td>\n",
       "      <td>20.670602</td>\n",
       "      <td>Colisión con objeto fijo</td>\n",
       "      <td>Pasajero</td>\n",
       "      <td>Transporte Empresarial o de Personal</td>\n",
       "      <td>Camioneta De Pasajeros</td>\n",
       "      <td>Hombre</td>\n",
       "      <td>Desconocido</td>\n",
       "      <td>Fallecido</td>\n",
       "      <td>2015</td>\n",
       "      <td>1</td>\n",
       "      <td>1</td>\n",
       "    </tr>\n",
       "    <tr>\n",
       "      <th>9</th>\n",
       "      <td>2015-01-01</td>\n",
       "      <td>jueves</td>\n",
       "      <td>05:00 a 05:59</td>\n",
       "      <td>Guadalajara</td>\n",
       "      <td>Industria</td>\n",
       "      <td>Plutarco Elias Calles</td>\n",
       "      <td>-103.29641</td>\n",
       "      <td>20.670602</td>\n",
       "      <td>Colisión con objeto fijo</td>\n",
       "      <td>Pasajero</td>\n",
       "      <td>Transporte Empresarial o de Personal</td>\n",
       "      <td>Camioneta De Pasajeros</td>\n",
       "      <td>Mujer</td>\n",
       "      <td>Desconocido</td>\n",
       "      <td>Lesionado</td>\n",
       "      <td>2015</td>\n",
       "      <td>1</td>\n",
       "      <td>1</td>\n",
       "    </tr>\n",
       "  </tbody>\n",
       "</table>\n",
       "</div>"
      ],
      "text/plain": [
       "       fecha dia_sem     rango_hora          mun               calle_1  \\\n",
       "0 2015-01-01  jueves  20:00 a 20:59  Guadalajara     Del Ejercito Calz   \n",
       "1 2015-01-01  jueves  20:00 a 20:59  Guadalajara     Del Ejercito Calz   \n",
       "2 2015-01-01  jueves  09:00 a 09:59          NaN  Lazaro Cardenas Calz   \n",
       "3 2015-01-01  jueves  09:00 a 09:59          NaN  Lazaro Cardenas Calz   \n",
       "4 2015-01-01  jueves  05:00 a 05:59  Guadalajara             Industria   \n",
       "5 2015-01-01  jueves  05:00 a 05:59  Guadalajara             Industria   \n",
       "6 2015-01-01  jueves  05:00 a 05:59  Guadalajara             Industria   \n",
       "7 2015-01-01  jueves  05:00 a 05:59  Guadalajara             Industria   \n",
       "8 2015-01-01  jueves  05:00 a 05:59  Guadalajara             Industria   \n",
       "9 2015-01-01  jueves  05:00 a 05:59  Guadalajara             Industria   \n",
       "\n",
       "                 calle_2           x          y  \\\n",
       "0               Rio Rhin  -103.33658  20.653207   \n",
       "1               Rio Rhin  -103.33658  20.653207   \n",
       "2            Tlaquepaque         NaN        NaN   \n",
       "3            Tlaquepaque         NaN        NaN   \n",
       "4  Plutarco Elias Calles  -103.29641  20.670602   \n",
       "5  Plutarco Elias Calles  -103.29641  20.670602   \n",
       "6  Plutarco Elias Calles  -103.29641  20.670602   \n",
       "7  Plutarco Elias Calles  -103.29641  20.670602   \n",
       "8  Plutarco Elias Calles  -103.29641  20.670602   \n",
       "9  Plutarco Elias Calles  -103.29641  20.670602   \n",
       "\n",
       "                        tipo_siniestro condicion_usuario  \\\n",
       "0  Colisión con peatón/Atropellamiento         Conductor   \n",
       "1  Colisión con peatón/Atropellamiento            Peatón   \n",
       "2             Colisión con objeto fijo         Conductor   \n",
       "3             Colisión con objeto fijo          Pasajero   \n",
       "4             Colisión con objeto fijo         Conductor   \n",
       "5             Colisión con objeto fijo          Pasajero   \n",
       "6             Colisión con objeto fijo          Pasajero   \n",
       "7             Colisión con objeto fijo          Pasajero   \n",
       "8             Colisión con objeto fijo          Pasajero   \n",
       "9             Colisión con objeto fijo          Pasajero   \n",
       "\n",
       "                           tipo_usuario              ibaen_atro    sexo  \\\n",
       "0                          Motociclista             Motocicleta  Hombre   \n",
       "1                                Peatón             Motocicleta   Mujer   \n",
       "2                   Vehiculo Particular               Automovil  Hombre   \n",
       "3                   Vehiculo Particular               Automovil   Mujer   \n",
       "4  Transporte Empresarial o de Personal  Camioneta De Pasajeros  Hombre   \n",
       "5  Transporte Empresarial o de Personal  Camioneta De Pasajeros   Mujer   \n",
       "6  Transporte Empresarial o de Personal  Camioneta De Pasajeros     NaN   \n",
       "7  Transporte Empresarial o de Personal  Camioneta De Pasajeros   Mujer   \n",
       "8  Transporte Empresarial o de Personal  Camioneta De Pasajeros  Hombre   \n",
       "9  Transporte Empresarial o de Personal  Camioneta De Pasajeros   Mujer   \n",
       "\n",
       "    rango_edad consecuencia  year  month  day  \n",
       "0  Desconocido        Ileso  2015      1    1  \n",
       "1        28-37    Lesionado  2015      1    1  \n",
       "2        18-27        Ileso  2015      1    1  \n",
       "3  Desconocido    Lesionado  2015      1    1  \n",
       "4        38-47    Fallecido  2015      1    1  \n",
       "5  Desconocido    Lesionado  2015      1    1  \n",
       "6  Desconocido    Lesionado  2015      1    1  \n",
       "7  Desconocido    Lesionado  2015      1    1  \n",
       "8  Desconocido    Fallecido  2015      1    1  \n",
       "9  Desconocido    Lesionado  2015      1    1  "
      ]
     },
     "execution_count": 18,
     "metadata": {},
     "output_type": "execute_result"
    }
   ],
   "source": [
    "df.head(10)"
   ]
  },
  {
   "cell_type": "markdown",
   "metadata": {},
   "source": [
    "**Clean rare categories and anomalies**"
   ]
  },
  {
   "cell_type": "code",
   "execution_count": 19,
   "metadata": {},
   "outputs": [
    {
     "data": {
      "text/plain": [
       "tipo_siniestro\n",
       "Colisión entre dos o más vehículos     34726\n",
       "Colisión con peatón/Atropellamiento     5372\n",
       "Colisión con objeto fijo                3059\n",
       "Caída del vehículo                      1271\n",
       "Caída al interior                        548\n",
       "Volcadura                                463\n",
       "Otro                                     432\n",
       "Colisión con vehículo estacionado        130\n",
       "NaN                                        4\n",
       "Name: count, dtype: int64"
      ]
     },
     "execution_count": 19,
     "metadata": {},
     "output_type": "execute_result"
    }
   ],
   "source": [
    "threshold = 10\n",
    "value_counts = df[\"tipo_siniestro\"].value_counts()\n",
    "rare_categories = value_counts[value_counts < threshold].index.tolist()\n",
    "\n",
    "df[\"tipo_siniestro\"] = df[\"tipo_siniestro\"].replace(rare_categories, \"Otro\")\n",
    "\n",
    "df[\"tipo_siniestro\"].value_counts(dropna=False)"
   ]
  },
  {
   "cell_type": "code",
   "execution_count": 20,
   "metadata": {},
   "outputs": [
    {
     "data": {
      "text/plain": [
       "condicion_usuario\n",
       "Conductor    31817\n",
       "Pasajero     10883\n",
       "Peatón        3290\n",
       "NaN             15\n",
       "Name: count, dtype: int64"
      ]
     },
     "execution_count": 20,
     "metadata": {},
     "output_type": "execute_result"
    }
   ],
   "source": [
    "anomalies = ['Hombre', 'Motociclista', 'Transporte Empresarial o de Personal', 'Mujer']\n",
    "\n",
    "df['condicion_usuario'] = df['condicion_usuario'].replace(anomalies, np.nan)\n",
    "\n",
    "df['condicion_usuario'].value_counts(dropna=False)"
   ]
  },
  {
   "cell_type": "code",
   "execution_count": 21,
   "metadata": {},
   "outputs": [
    {
     "data": {
      "text/plain": [
       "tipo_usuario\n",
       "Vehiculo Particular                     13875\n",
       "Motociclista                             9506\n",
       "Transporte Publico de Pasajeros          7549\n",
       "Transporte de Carga                      5762\n",
       "Transporte Empresarial o de Personal     3719\n",
       "Peatón                                   3290\n",
       "NaN                                      1211\n",
       "Ciclista                                  818\n",
       "Otro Vehiculo                             217\n",
       "Tren Ligero                                58\n",
       "Name: count, dtype: int64"
      ]
     },
     "execution_count": 21,
     "metadata": {},
     "output_type": "execute_result"
    }
   ],
   "source": [
    "anomalies = ['18-27', '28-37', '38-47', '48-59','0-17']\n",
    "\n",
    "df['tipo_usuario'] = df['tipo_usuario'].replace(anomalies, np.nan)\n",
    "\n",
    "df[\"tipo_usuario\"] = df[\"tipo_usuario\"].replace({\n",
    "    \"Motocicleta\": \"Motociclista\",\n",
    "    \"Camioneta De Pasajeros\": \"Transporte Publico de Pasajeros\"\n",
    "})\n",
    "\n",
    "df['tipo_usuario'].value_counts(dropna=False)"
   ]
  },
  {
   "cell_type": "code",
   "execution_count": 22,
   "metadata": {},
   "outputs": [
    {
     "data": {
      "text/plain": [
       "sexo\n",
       "Hombre    28338\n",
       "Mujer     10092\n",
       "NaN        7573\n",
       "18-27         2\n",
       "Name: count, dtype: int64"
      ]
     },
     "execution_count": 22,
     "metadata": {},
     "output_type": "execute_result"
    }
   ],
   "source": [
    "anomalies = ['Lesionado', 'Ileso', 'Hombre', 'Mujer','Fallecido']\n",
    "\n",
    "df['ibaen_atro'] = df['ibaen_atro'].replace(anomalies, np.nan)\n",
    "\n",
    "df['sexo'].value_counts(dropna=False)"
   ]
  },
  {
   "cell_type": "code",
   "execution_count": 23,
   "metadata": {},
   "outputs": [
    {
     "data": {
      "text/plain": [
       "sexo\n",
       "Hombre    28338\n",
       "Mujer     10092\n",
       "NaN        7575\n",
       "Name: count, dtype: int64"
      ]
     },
     "execution_count": 23,
     "metadata": {},
     "output_type": "execute_result"
    }
   ],
   "source": [
    "anomalies = ['18-27']\n",
    "\n",
    "df['sexo'] = df['sexo'].replace(anomalies, np.nan)\n",
    "\n",
    "df['sexo'].value_counts(dropna=False)"
   ]
  },
  {
   "cell_type": "code",
   "execution_count": 24,
   "metadata": {},
   "outputs": [
    {
     "data": {
      "text/plain": [
       "rango_edad\n",
       "Desconocido    13735\n",
       "18-27          10991\n",
       "28-37           7201\n",
       "38-47           5434\n",
       "48-59           4119\n",
       "0-17            2383\n",
       "60+             2127\n",
       "NaN               15\n",
       "Name: count, dtype: int64"
      ]
     },
     "execution_count": 24,
     "metadata": {},
     "output_type": "execute_result"
    }
   ],
   "source": [
    "anomalies = ['Lesionado','Ileso']\n",
    "\n",
    "df['rango_edad'] = df['rango_edad'].replace(anomalies, np.nan)\n",
    "\n",
    "df['rango_edad'].value_counts(dropna=False)"
   ]
  },
  {
   "cell_type": "code",
   "execution_count": 25,
   "metadata": {},
   "outputs": [
    {
     "data": {
      "text/plain": [
       "consecuencia\n",
       "Lesionado    24344\n",
       "Ileso        19576\n",
       "Fallecido     2070\n",
       "NaN             15\n",
       "Name: count, dtype: int64"
      ]
     },
     "execution_count": 25,
     "metadata": {},
     "output_type": "execute_result"
    }
   ],
   "source": [
    "df['consecuencia'].value_counts(dropna=False)"
   ]
  },
  {
   "cell_type": "code",
   "execution_count": 26,
   "metadata": {},
   "outputs": [
    {
     "name": "stdout",
     "output_type": "stream",
     "text": [
      "<class 'pandas.core.frame.DataFrame'>\n",
      "RangeIndex: 46005 entries, 0 to 46004\n",
      "Data columns (total 18 columns):\n",
      " #   Column             Non-Null Count  Dtype         \n",
      "---  ------             --------------  -----         \n",
      " 0   fecha              46005 non-null  datetime64[ns]\n",
      " 1   dia_sem            46005 non-null  object        \n",
      " 2   rango_hora         45883 non-null  object        \n",
      " 3   mun                41866 non-null  object        \n",
      " 4   calle_1            46005 non-null  object        \n",
      " 5   calle_2            46005 non-null  object        \n",
      " 6   x                  41873 non-null  object        \n",
      " 7   y                  41873 non-null  object        \n",
      " 8   tipo_siniestro     46001 non-null  object        \n",
      " 9   condicion_usuario  45990 non-null  object        \n",
      " 10  tipo_usuario       44794 non-null  object        \n",
      " 11  ibaen_atro         44299 non-null  object        \n",
      " 12  sexo               38430 non-null  object        \n",
      " 13  rango_edad         45990 non-null  object        \n",
      " 14  consecuencia       45990 non-null  object        \n",
      " 15  year               46005 non-null  int32         \n",
      " 16  month              46005 non-null  int32         \n",
      " 17  day                46005 non-null  int32         \n",
      "dtypes: datetime64[ns](1), int32(3), object(14)\n",
      "memory usage: 5.8+ MB\n"
     ]
    }
   ],
   "source": [
    "df.info()"
   ]
  },
  {
   "cell_type": "markdown",
   "metadata": {},
   "source": [
    "#### **3. Visualizations**"
   ]
  }
 ],
 "metadata": {
  "kernelspec": {
   "display_name": "venv",
   "language": "python",
   "name": "python3"
  },
  "language_info": {
   "codemirror_mode": {
    "name": "ipython",
    "version": 3
   },
   "file_extension": ".py",
   "mimetype": "text/x-python",
   "name": "python",
   "nbconvert_exporter": "python",
   "pygments_lexer": "ipython3",
   "version": "3.11.11"
  }
 },
 "nbformat": 4,
 "nbformat_minor": 2
}
